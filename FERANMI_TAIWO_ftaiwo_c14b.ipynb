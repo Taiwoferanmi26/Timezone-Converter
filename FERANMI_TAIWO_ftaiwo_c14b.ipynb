{
 "cells": [
  {
   "cell_type": "code",
   "execution_count": 1,
   "id": "98b3ba95",
   "metadata": {},
   "outputs": [],
   "source": [
    "#list containing 588 countries/Timezones\n",
    "\n",
    "countryTimezone = ['Africa/Abidjan', 'Africa/Accra', 'Africa/Addis_Ababa', 'Africa/Algiers', 'Africa/Asmara', 'Africa/Asmera',\n",
    "                    'Africa/Bamako', 'Africa/Bangui', 'Africa/Banjul', 'Africa/Bissau', 'Africa/Blantyre', 'Africa/Brazzaville',\n",
    "                    'Africa/Bujumbura', 'Africa/Cairo', 'Africa/Casablanca', 'Africa/Ceuta', 'Africa/Conakry', 'Africa/Dakar',\n",
    "                    'Africa/Dar_es_Salaam', 'Africa/Djibouti', 'Africa/Douala', 'Africa/El_Aaiun', 'Africa/Freetown',\n",
    "                    'Africa/Gaborone', 'Africa/Harare', 'Africa/Johannesburg', 'Africa/Juba', 'Africa/Kampala',\n",
    "                    'Africa/Khartoum', 'Africa/Kigali', 'Africa/Kinshasa', 'Africa/Lagos', 'Africa/Libreville', \n",
    "                    'Africa/Lome', 'Africa/Luanda', 'Africa/Lubumbashi', 'Africa/Lusaka', 'Africa/Malabo', 'Africa/Maputo', \n",
    "                    'Africa/Maseru', 'Africa/Mbabane', 'Africa/Mogadishu', 'Africa/Monrovia', 'Africa/Nairobi',\n",
    "                    'Africa/Ndjamena', 'Africa/Niamey', 'Africa/Nouakchott', 'Africa/Ouagadougou', 'Africa/Porto-Novo', \n",
    "                    'Africa/Sao_Tome', 'Africa/Timbuktu', 'Africa/Tripoli', 'Africa/Tunis', 'Africa/Windhoek', 'America/Adak',\n",
    "                    'America/Anchorage', 'America/Anguilla', 'America/Antigua', 'America/Araguaina', \n",
    "                    'America/Argentina/Buenos_Aires', 'America/Argentina/Catamarca', 'America/Argentina/ComodRivadavia', \n",
    "                    'America/Argentina/Cordoba', 'America/Argentina/Jujuy', 'America/Argentina/La_Rioja',\n",
    "                    'America/Argentina/Mendoza', 'America/Argentina/Rio_Gallegos', 'America/Argentina/Salta', \n",
    "                    'America/Argentina/San_Juan', 'America/Argentina/San_Luis', 'America/Argentina/Tucuman', 'Argentina/Ushuaia',\n",
    "                    'America/America/Aruba', 'America/Asuncion', 'America/Atikokan', 'America/Atka', 'America/Bahia',\n",
    "                    'America/Bahia_Banderas', 'America/Barbados', 'America/Belem', 'America/Belize', 'America/Blanc-Sablon', \n",
    "                    'America/Boa_Vista', 'America/Bogota','America/Boise', 'America/Buenos_Aires', 'America/Cambridge_Bay', \n",
    "                    'America/Campo_Grande', 'America/Cancun', 'America/Caracas', 'America/Catamarca', 'America/Cayenne',\n",
    "                    'America/Cayman', 'America/Chicago', 'America/Chihuahua', 'America/Coral_Harbour', 'America/Cordoba', \n",
    "                    'America/Costa_Rica', 'America/Creston', 'America/Cuiaba', 'America/Curacao', 'America/Danmarkshavn', \n",
    "                    'America/Dawson', 'America/Dawson_Creek', 'America/Denver', 'America/Detroit', 'America/Dominica', \n",
    "                    'America/Edmonton', 'America/Eirunepe', 'America/El_Salvado', 'America/Ensenada', 'America/Fort_Nelson',\n",
    "                    'America/Fort_Wayne', 'America/Fortaleza', 'America/Glace_Bay', 'America/Godthab', 'America/Goose_Bay',\n",
    "                    'America/Grand_Turk', 'America/Grenada', 'America/Guadeloupe', 'America/Guatemala', 'America/Guayaquil',\n",
    "                    'America/Guyana', 'America/Halifax', 'America/Havana', 'America/Hermosillo', 'America/Indiana/Indianapolis',\n",
    "                    'America/Indiana/Knox', 'America/Indiana/Marengo', 'America/Indiana/Petersburg', 'America/Indiana/Tell_City', \n",
    "                    'America/Indiana/Vevay', 'America/Indiana/Vincennes', 'America/Indiana/Winamac', 'America/Indianapolis', \n",
    "                    'America/Inuvik', 'America/Iqaluit', 'America/Jamaica', 'America/Jujuy', 'America/Juneau', \n",
    "                    'Kentucky/Louisville', 'Kentucky/Monticello', 'America/Knox_IN', 'America/Kralendijk', 'America/La_Paz', \n",
    "                    'America/Lima', 'America/Los_Angeles', 'America/Louisville', 'America/Lower_Princes', 'America/Maceio', \n",
    "                    'America/Managua', 'America/Manaus', 'America/Marigot', 'America/Martinique', 'America/Matamoros', \n",
    "                    'America/Mazatlan', 'America/Mendoza', 'America/Menominee', 'America/Merida', 'America/Metlakatla', \n",
    "                    'America/Mexico_City', 'America/Miquelon', 'America/Moncton', 'America/Monterrey', 'America/Montevideo',\n",
    "                    'America/Montreal', 'America/Montserrat', 'America/Nassau', 'America/New_York', 'America/Nipigon', 'America/Nome', \n",
    "                    'America/Noronha', 'America/North_Dakota/Beulah', 'America/North_Dakota/Center', \n",
    "                    'America/North_Dakota/New_Salem', 'America/Ojinaga', 'America/Panama', 'America/Pangnirtung', \n",
    "                    'America/Paramaribo', 'America/Phoenix', 'America/Port-au-Prince', 'America/Port_of_Spain', \n",
    "                    'America/Porto_Acre', 'America/Porto_Velho', 'America/Puerto_Rico', 'America/Rainy_River', \n",
    "                    'America/Rankin_Inlet', 'America/Recife', 'America/Regina', 'America/Resolute', 'America/Rio_Branco', \n",
    "                    'America/Rosario', 'America/Santa_Isabel', 'America/Santarem', 'America/Santiago', 'America/Santo_Domingo', \n",
    "                    'America/Sao_Paulo', 'America/Scoresbysund', 'America/Shiprock', 'America/Sitka', 'America/St_Barthelemy', \n",
    "                    'America/St_Johns', 'America/St_Kitts', 'America/St_Lucia', 'America/St_Thomas', 'America/St_Vincent', \n",
    "                    'America/Swift_Current', 'America/Tegucigalpa', 'America/Thule', 'America/Thunder_Bay', 'America/Tijuana', \n",
    "                    'America/Toronto', 'America/Tortola', 'America/Vancouver', 'America/Virgin', 'America/Whitehorse', \n",
    "                    'America/Winnipeg','America/Yakutat', 'America/Yellowknife', 'Antarctica/Casey', 'Antarctica/Davis', 'Antarctica/DumontDUrville', \n",
    "                    'Antarctica/Macquarie', 'Antarctica/Mawson', 'Antarctica/McMurdo', 'Antarctica/Palmer', 'Antarctica/Rothera',\n",
    "                    'Antarctica/South_Pole', 'Antarctica/Syowa', 'Antarctica/Troll', 'Antarctica/Vostok', 'Arctic/Longyearbyen', 'Asia/Aden',\n",
    "                    'Asia/Almaty', 'Asia/Amman', 'Asia/Anadyr', 'Asia/Aqtau', 'Asia/Aqtobe', 'Asia/Ashgabat', 'Asia/Ashkhabad', 'Asia/Baghdad', \n",
    "                    'Asia/Bahrain', 'Asia/Baku', 'Asia/Bangkok', 'Asia/Beirut', 'Asia/Bishkek', 'Asia/Brunei','Asia/Calcutta', 'Asia/Chita', \n",
    "                    'Asia/Choibalsan', 'Asia/Chongqing', 'Asia/Chungking', 'Asia/Colombo', \n",
    "                    'Asia/Dacca', 'Asia/Damascus', 'Asia/Dhaka', 'Asia/Dili', 'Asia/Dubai', 'Asia/Dushanbe',\n",
    "                    'Asia/Gaza', 'Asia/Harbin', 'Asia/Hebron', 'Asia/Ho_Chi_Minh', 'Asia/Hong_Kong', \n",
    "                    'Asia/Hovd', 'Asia/Irkutsk', 'Asia/Istanbul', 'Asia/Jakarta', 'Asia/Jayapura', 'Asia/Jerusalem',\n",
    "                    'Asia/Kabul', 'Asia/Kamchatka', 'Asia/Karachi', 'Asia/Kashgar', 'Asia/Kathmandu', 'Asia/Katmandu',\n",
    "                    'Asia/Khandyga', 'Asia/Kolkata', 'Asia/Krasnoyarsk', 'Asia/Kuala_Lumpur', 'Asia/Kuching','Asia/Kuwait',\n",
    "                    'Asia/Macao', 'Asia/Macau', 'Asia/Magadan', 'Asia/Makassar', 'Asia/Manila', 'Asia/Muscat', 'Asia/Nicosia', \n",
    "                    'Asia/Novokuznetsk', 'Asia/Novosibirsk', 'Asia/Omsk', 'Asia/Oral', 'Asia/Phnom_Penh', 'Asia/Pontianak', \n",
    "                    'Asia/Pyongyang', 'Asia/Qatar', 'Asia/Qyzylorda', 'Asia/Rangoon', 'Asia/Riyadh', 'Asia/Riyadh87',\n",
    "                    'Asia/Riyadh88', 'Asia/Riyadh89', 'Asia/Saigon', 'Asia/Sakhalin', 'Asia/Samarkand', 'Asia/Seoul',\n",
    "                    'Asia/Shanghai', 'Asia/Singapore', 'Asia/Srednekolymsk', 'Asia/Taipei', 'Asia/Tashkent', 'Asia/Tbilisi', \n",
    "                    'Asia/Tehran', 'Asia/Tel_Aviv','Asia/Thimbu', 'Asia/Thimphu', 'Asia/Tokyo', 'Asia/Ujung_Pandang', 'Asia/Ulaanbaatar', \n",
    "                    'Asia/Ulan_Bator', 'Asia/Urumqi', 'Asia/Vientiane', 'Asia/Vladivostok', 'Asia/Yakutsk', 'Asia/Yekaterinburg',\n",
    "                    'Asia/Yerevan', 'Atlantic/Azores', 'Atlantic/Bermuda', 'Atlantic/Canary', 'Atlantic/Cape_Verde', \n",
    "                    'Atlantic/Faeroe', 'Atlantic/Faroe', 'Atlantic/Jan_Mayen', 'Atlantic/Madeira', 'Atlantic/Reykjavik', \n",
    "                    'Atlantic/South_Georgia', 'Atlantic/St_Helena', 'Atlantic/Stanley', 'Australia/ACT', 'Australia/Adelaide',\n",
    "                    'Australia/Brisbane', 'Australia/Broken_Hill', 'Australia/Canberra', 'Australia/Currie', 'Australia/Darwin',\n",
    "                    'Australia/Eucla', 'Australia/Hobart', 'Australia/LHI', 'Australia/Lindeman', 'Australia/Lord_Howe', \n",
    "                    'Australia/Melbourne', 'Australia/NSW', 'Australia/North', 'Australia/Perth', 'Australia/Queensland',\n",
    "                    'Australia/South', 'Australia/Sydney', 'Australia/Tasmania', 'Australia/Victoria', 'Australia/West',\n",
    "                    'Australia/Yancowinna', 'Brazil/Acre', 'Brazil/DeNoronha', 'Brazil/East', 'Brazil/West', 'CET', 'CST6CDT', \n",
    "                    'Canada/Atlantic', 'Canada/Central', 'Canada/East-Saskatchewan', 'Canada/Eastern', 'Canada/Mountain',\n",
    "                    'Canada/Newfoundland','Canada/Pacific', 'Canada/Saskatchewan', 'Canada/Yukon', 'Chile/Continental', \n",
    "                    'Chile/EasterIsland', 'Cuba', 'EET', 'EST', 'EST5EDT', 'Egypt', 'Eire', 'Etc/GMT', 'Etc/GMT+0', \n",
    "                    'Etc/GMT+1', 'Etc/GMT+10', 'Etc/GMT+11', 'Etc/GMT+12', 'Etc/GMT+2', 'Etc/GMT+3', 'Etc/GMT+4', \n",
    "                    'Etc/GMT+5', 'Etc/GMT+6', 'Etc/GMT+7', 'Etc/GMT+8', 'Etc/GMT+9', 'Etc/GMT-0', 'Etc/GMT-1',\n",
    "                    'Etc/GMT-10', 'Etc/GMT-11', 'Etc/GMT-12', 'Etc/GMT-13', 'Etc/GMT-14', 'Etc/GMT-2', 'Etc/GMT-3',\n",
    "                    'Etc/GMT-4', 'Etc/GMT-5', 'Etc/GMT-6', 'Etc/GMT-7', 'Etc/GMT-8', 'Etc/GMT-9', 'Etc/GMT0',\n",
    "                    'Etc/Greenwich', 'Etc/UCT','Etc/UTC', 'Etc/Universal', 'Etc/Zulu', 'Europe/Amsterdam', 'Europe/Andorra', \n",
    "                    'Europe/Athens', 'Europe/Belfast',\n",
    "                    'Europe/Belgrade', 'Europe/Berlin', 'Europe/Bratislava', 'Europe/Brussels', 'Europe/Bucharest', \n",
    "                    'Europe/Budapest', 'Europe/Busingen', 'Europe/Chisinau', 'Europe/Copenhagen', 'Europe/Dublin', \n",
    "                    'Europe/Gibraltar', 'Europe/Guernsey', 'Europe/Helsinki', 'Europe/Isle_of_Man', 'Europe/Istanbul', 'Europe/Jersey', 'Europe/Kaliningrad', 'Europe/Kiev', 'Europe/Lisbon', 'Europe/Ljubljana', 'Europe/London', 'Europe/Luxembourg', 'Europe/Madrid', 'Europe/Malta', 'Europe/Mariehamn', 'Europe/Minsk', 'Europe/Monaco', 'Europe/Moscow', 'Europe/Nicosia', 'Europe/Oslo', 'Europe/Paris',\n",
    "                    'Europe/Podgorica', 'Europe/Prague', 'Europe/Riga', 'Europe/Rome', 'Europe/Samara',\n",
    "                    'Europe/San_Marino', 'Europe/Sarajevo', 'Europe/Simferopol', 'Europe/Skopje', 'Europe/Sofia', \n",
    "                    'Europe/Stockholm', 'Europe/Tallinn', 'Europe/Tirane', 'Europe/Tiraspol', 'Europe/Uzhgorod', \n",
    "                    'Europe/Vaduz', 'Europe/Vatican', 'Europe/Vienna', 'Europe/Vilnius', 'Europe/Volgograd', 'Europe/Warsaw',\n",
    "                    'Europe/Zagreb', 'Europe/Zaporozhye', 'Europe/Zurich', 'Factory', 'GB', 'GB-Eire', 'GMT', 'GMT+0', 'GMT-0',  'GMT0', 'Greenwich', 'HST', 'Hongkong', 'Iceland', 'Indian/Antananarivo', 'Indian/Chagos', 'Indian/Christmas', 'Indian/Cocos',\n",
    "                    'Indian/Comoro', 'Indian/Kerguelen', 'Indian/Mahe', 'Indian/Maldives', 'Indian/Mauritius', 'Indian/Mayotte',\n",
    "                    'Indian/Reunion', 'Iran', 'Israel', 'Jamaica', 'Japan', 'Kwajalein', 'Libya', 'MET', 'MST', 'MST7MDT', \n",
    "                    'Mexico/BajaNorte', 'Mexico/BajaSur', 'Mexico/General', 'Mideast/Riyadh87', 'Mideast/Riyadh88', \n",
    "                    'Mideast/Riyadh89', 'NZ', 'NZ-CHAT', 'Navajo', 'PRC', 'PST8PDT', 'Pacific/Apia', 'Pacific/Auckland',\n",
    "                    'Pacific/Bougainville', 'Pacific/Chatham','Pacific/Chuuk','Pacific/Easter', 'Pacific/Efate', 'Pacific/Enderbury', 'Pacific/Fakaofo', 'Pacific/Fiji', \n",
    "                    'Pacific/Funafuti', 'Pacific/Galapagos', 'Pacific/Gambier', 'Pacific/Guadalcanal', 'Pacific/Guam',\n",
    "                    'Pacific/Honolulu', 'Pacific/Johnston', 'Pacific/Kiritimati', 'Pacific/Kosrae', 'Pacific/Kwajalein', \n",
    "                    'Pacific/Majuro', 'Pacific/Marquesas', 'Pacific/Midway', 'Pacific/Nauru', 'Pacific/Niue', \n",
    "                    'Pacific/Norfolk', 'Pacific/Noumea', 'Pacific/Pago_Pago', 'Pacific/Palau', 'Pacific/Pitcairn', \n",
    "                    'Pacific/Ponape','Pacific/Port_Moresby', 'Pacific/Rarotonga', 'Pacific/Saipan', 'Pacific/Samoa', \n",
    "                    'Pacific/Tahiti', 'Pacific/Tarawa', 'Pacific/Tongatapu', 'Pacific/Truk', 'Pacific/Wake', 'Pacific/Wallis',\n",
    "                    'Pacific/Yap', 'Poland', 'Portugal', 'ROC', 'ROK', 'Singapore', 'Turkey', 'UCT', 'US/Alaska',\n",
    "                    'US/Aleutian', 'US/Arizona', 'US/Central', 'US/East-Indiana', 'US/Eastern', 'US/Hawaii', \n",
    "                    'US/Indiana-Starke', 'US/Michigan', 'US/Mountain', 'US/Pacific', 'S/Pacific-New', 'US/Samoa',\n",
    "                    'UTC', 'Universal', 'W-SU', 'WET', 'Zulu']"
   ]
  },
  {
   "cell_type": "code",
   "execution_count": 2,
   "id": "42e8d6bf",
   "metadata": {},
   "outputs": [],
   "source": [
    "#list to hold countries 0ffsets\n",
    "\n",
    "countryOffsets = [0, 0, 10800, 3600, 10800, 10800, 0, 3600, 0, 0, 7200, 3600, 7200, 7200, 0, 3600, 0, 0, 10800, 10800, \n",
    " 3600, 0, 0, 7200, 7200, 7200, 10800, 10800, 10800, 7200, 3600, 3600, 3600, 0, 3600, 7200, 7200, 3600, 7200, 7200, 7200, 10800, 0, 10800,\n",
    " 3600, 3600, 0, 0, 3600, 0, 0, 7200, 3600, 3600, -36000, -32400, -14400, -14400, -10800, -10800, -10800, -10800, -10800, \n",
    " -10800, -10800, -10800, -10800, -10800, -10800, -10800, -10800, -10800, -14400, -10800, -18000, -36000, -10800, -21600,\n",
    " -14400, -10800, -21600, -14400, -14400, -18000, -25200, -10800, -25200, -14400, -18000, -16200, -10800, -10800, -18000, \n",
    " -21600, -25200, -18000, -10800, -21600, -25200, -14400, -14400, 0, -28800, -25200, -25200, -18000, -14400, -25200, -18000, \n",
    " -21600, -28800, -25200, -18000, -10800, -14400, -10800, -14400, -14400, -14400, -14400, -21600, -18000, -14400, -14400, \n",
    " -18000, -25200, -18000, -21600, -18000, -18000, -21600, -18000, -18000, -18000, -18000, -25200, -18000, -18000, -10800, \n",
    " -32400, -18000, -18000, -21600, -14400, -14400, -18000, -28800, -18000, -14400, -10800, -21600, -14400, -14400, -14400, \n",
    " -21600, -25200, -10800, -21600, -21600, -28800, -21600, -10800, -14400, -21600, -10800, -18000, -14400, -18000, -18000, \n",
    " -18000, -32400, -7200, -21600, -21600, -21600, -25200, -18000, -18000, -10800, -25200, -18000, -14400, -18000, -14400, \n",
    " -14400, -21600, -21600, -10800, -21600, -21600, -18000, -10800, -28800, -10800, -10800, -14400, -10800, -3600, -25200, \n",
    " -32400, -14400, -12600, -14400, -14400, -14400, -14400, -21600, -21600, -14400, -18000, -28800, -18000, -14400, -28800, \n",
    " -14400, -28800, -21600, -32400, -25200, 28800, 25200, 36000, 39600, 18000, 43200, -10800, -10800, 43200, 10800, 0, 21600, \n",
    " 3600, 10800, 21600, 7200, 43200, 18000, 18000, 18000, 18000, 10800, 10800, 14400, 25200, 7200, 21600, 28800, 19800, 28800, \n",
    " 28800, 28800, 28800, 19800, 21600, 7200, 21600, 32400, 14400, 18000, 7200, 28800, 7200, 25200, 28800, 25200, 28800, 7200, \n",
    " 25200, 32400, 7200, 16200, 43200, 18000, 21600, 20700, 20700, 32400, 19800, 25200, 28800, 28800, 10800, 28800, 28800, \n",
    " 36000, 28800, 28800, 14400, 7200, 25200, 21600, 21600, 18000, 25200, 25200, 30600, 10800, 21600, 23400, 10800, 10800, \n",
    " 10800, 10800, 25200, 36000, 18000, 32400, 28800, 28800, 39600, 28800, 18000, 14400, 12600, 7200, 21600, 21600, 32400, \n",
    " 28800, 28800, 28800, 21600, 25200, 36000, 32400, 18000, 14400, -3600, -14400, 0, -3600, 0, 0, 3600, 0, 0, -7200, 0, \n",
    " -10800, 36000, 34200, 36000, 34200, 36000, 36000, 34200, 31500, 36000, 37800, 36000, 37800, 36000, 36000, 34200, 28800, \n",
    " 36000, 34200, 36000, 36000, 36000, 28800, 34200, -18000, -7200, -10800, -14400, 3600, -21600, -14400, -21600, -21600, \n",
    " -18000, -25200, -12600, -28800, -21600, -28800, -10800, -18000, -18000, 7200, -18000, -18000, 7200, 0, 0, 0, -3600, \n",
    " -36000, -39600, -43200, -7200, -10800, -14400, -18000, -21600, -25200, -28800, -32400, 0, 3600, 36000, 39600, 43200, \n",
    " 46800, 50400, 7200, 10800, 14400, 18000, 21600, 25200, 28800, 32400, 0, 0, 0, 0, 0, 0, 3600, 3600, 7200, 0, 3600, 3600, \n",
    " 3600, 3600, 7200, 3600, 3600, 7200, 3600, 0, 3600, 0, 7200, 0, 7200, 0, 7200, 7200, 0, 3600, 0, 3600, 3600, 3600, 7200,\n",
    " 10800, 3600, 10800, 7200, 3600, 3600, 3600, 3600, 7200, 3600, 14400, 3600, 3600, 7200, 3600, 7200, 3600, 7200, 3600, 7200,\n",
    " 7200, 3600, 3600, 3600, 7200, 10800, 3600, 3600, 7200, 3600, 0, 0, 0, 0, 0, 0, 0, 0, -36000, 28800, 0, 10800, 21600, 25200, \n",
    " 23400, 10800, 18000, 14400, 18000, 14400, 10800, 14400, 12600, 7200, -18000, 32400, 43200, 7200, 3600, -25200, -25200, -28800,\n",
    " -25200, -21600, 0, 0, 0, 43200, 45900, 0, 0, 0, 46800, 43200, 39600, 45900, 36000, -18000, 39600, 46800, 46800, 43200, 43200, \n",
    " -21600, -32400, 39600, 36000, -36000, -36000, 50400, 39600, 43200, 43200, -34200, -39600, 43200, -39600, 39600, 39600, -39600, \n",
    " 32400, -28800, 39600, 36000, -36000, 36000, -39600, -36000, 43200, 46800, 36000, 43200, 43200, 36000, 3600, 0, 28800, 32400, \n",
    "28800,  7200, 0, -32400, -36000, -25200, -21600, -18000, -18000, -36000, -21600, -18000, -25200, -28800, -28800, -39600,\n",
    "0, 0, 10800, 0, 0]"
   ]
  },
  {
   "cell_type": "code",
   "execution_count": 3,
   "id": "f2174f6a",
   "metadata": {},
   "outputs": [
    {
     "name": "stdout",
     "output_type": "stream",
     "text": [
      "Enter your year in the format yyyy: 2022\n",
      "Enter your Month in the format mm: 07\n",
      "Enter your day in the format dd: 07\n",
      "enter your time in the format HH: 10\n",
      "Enter your minutes in the format MM: 00\n",
      "Enter your country: Atlantic/Jan_Mayen\n",
      "Dear user,the bootcamp date and time converted from EST to Atlantic/Jan_Mayen time is 2022-07-07 16:00:00\n"
     ]
    }
   ],
   "source": [
    "#CONVERTING THE USER TIME IN EST TO THE TIME IN THEIR REQUESTED COUNTRY/TIMEZONE\n",
    "#The output time is in 24-hour format\n",
    "\n",
    "import datetime as date\n",
    "from datetime import time\n",
    "estOffset = -18000\n",
    "\n",
    "#specified_time - est_offset + specified_country_offset\n",
    "userYear = int(input('Enter your year in the format yyyy: '))\n",
    "userMonth = int(input('Enter your Month in the format mm: '))\n",
    "userDay = int(input('Enter your day in the format dd: '))\n",
    "userHour = int(input('enter your time in the format HH: '))\n",
    "userMinutes = int(input('Enter your minutes in the format MM: '))\n",
    "userCountry = input('Enter your country: ')\n",
    "for items in zip(countryTimezone, countryOffsets):\n",
    "    if items[0] == userCountry:\n",
    "        userSpecifiedTime = int(userHour - (estOffset)/3600 + (items[1])/3600) #3600 is used to convert the time given in seconds to hours\n",
    "        userDate = date.datetime(userYear, userMonth, userDay, userSpecifiedTime,userMinutes)\n",
    "        userTime = date.time(userHour,userMinutes)\n",
    "print(f'Dear user,the bootcamp date and time converted from EST to {userCountry} time is {userDate}')"
   ]
  },
  {
   "cell_type": "code",
   "execution_count": 14,
   "id": "7ec88790",
   "metadata": {},
   "outputs": [
    {
     "name": "stdout",
     "output_type": "stream",
     "text": [
      "July 7-Jul 6.00 AM Cohort 14 Data Analytics Python Variables\n",
      "July 8-Jul 10.00 AM Cohort 15 Data Science/ML Data Cleaning\n",
      "July 7-Jul 6.00 AM Cohort 14 Data Science/ML Python Variables\n",
      "July 8-Jul 10.00 AM Cohort 15 Data Analytics Data Visualization Project 1\n",
      "July 21-Jul 6.00 AM Cohort 14 Data Analytics Python Container\n",
      "July 21-Jul22-Jul 10.00 AM Cohort 14 Data Science/ML Data Transformation\n",
      "July 22-Jul 6.00 AM Cohort 15 Data Science/ML Python Container\n",
      "July 4-Aug 10.00 AM Cohort 14 Data Analytics Data Visualization Project 2\n",
      "August 4-Aug 6.00 AM Cohort 15 Data Analytics Python Container II\n",
      "August 5-Aug 10.00 AM Cohort 14 Data Science/ML Data Transformation II\n",
      "August 5-Aug 6.00 AM Cohort 15 Data Science/ML Python Container II\n",
      "August 18-Aug 10.00 AM Cohort 14 Data Analytics Data Visualization Project 3\n",
      "August 18-Aug 6.00 AM Cohort 15 Data Analytics Python Functions\n",
      "August 19-Aug 10.00 AM Cohort 14 Data Science/ML Feature Selection\n",
      "August 19-Aug 6.00 AM Cohort 15 Data Science/ML Python Functions\n",
      "August 1-Sep 10.00 AM Cohort 14 Data Analytics Data Visualization Project 4\n",
      "September 1-Sep 6.00 AM Cohort 15 Data Analytics Python Functions\n",
      "September 2-Sep 10.00 AM Cohort 14 Data Science/ML Feature Selection II\n",
      "September 2-Sep 6.00 AM Cohort 15 Data Science/ML Python Functions II\n",
      "September 15-Sep 10.00 AM Cohort 14 Data Analytics Data Visualization Project 5\n",
      "September 15-Sep 6.00 AM Cohort 15 Data Analytics Python Pandas I\n",
      "SeptemberSeptember 16-Sep 10.00 AM Cohort 14 Data Science/ML Supervised Learning Intro\n",
      "September 16-Sep 6.00 AM Cohort 15 Data Science/ML Python Pandas I\n",
      "September 29-Sep 10.00 AM Cohort 14 Data Analytics Data Visualization Project 6\n",
      "September 29-Sep 6.00 AM Cohort 15 Data Analytics Python Pandas II\n",
      "September 30-Sep 10.00 AM Cohort 14 Data Science/ML Unsupervised Learning Intro\n",
      "  30-Sep 6.00 AM Cohort 15 Data Science/ML Python Pandas II\n"
     ]
    }
   ],
   "source": [
    "#TO GENERATE THE UPCOMING BOOTCAMP SCHEDULES FOR USERS\n",
    "\n",
    "#Lists holding the bootcamp schedules\n",
    "\n",
    "monthList = ['July','July','July','July','July', 'July', 'July', 'July', 'August', 'August', 'August', 'August', 'August',\n",
    "            'August', 'August', 'August', 'September', 'September', 'September', 'September', 'September', 'September'\n",
    "            'September', 'September', 'September', 'September', 'September', ' ']\n",
    "dateList = ['7-Jul','8-Jul','7-Jul','8-Jul','21-Jul', '21-Jul''22-Jul','22-Jul','4-Aug','4-Aug','5-Aug','5-Aug','18-Aug',\n",
    "            '18-Aug','19-Aug','19-Aug','1-Sep','1-Sep','2-Sep','2-Sep','15-Sep','15-Sep','16-Sep','16-Sep','29-Sep',\n",
    "            '29-Sep','30-Sep','30-Sep']\n",
    "timeList = ['6.00 AM','10.00 AM','6.00 AM','10.00 AM','6.00 AM', '10.00 AM','6.00 AM', '10.00 AM','6.00 AM', '10.00 AM','6.00 AM',\n",
    "           '10.00 AM','6.00 AM', '10.00 AM','6.00 AM', '10.00 AM','6.00 AM', '10.00 AM','6.00 AM', '10.00 AM','6.00 AM',\n",
    "           '10.00 AM','6.00 AM', '10.00 AM','6.00 AM', '10.00 AM','6.00 AM', '10.00 AM']\n",
    "cohortList = ['Cohort 14','Cohort 15','Cohort 14','Cohort 15','Cohort 14','Cohort 14','Cohort 15','Cohort 14','Cohort 15',\n",
    "             'Cohort 14','Cohort 15','Cohort 14','Cohort 15','Cohort 14','Cohort 15','Cohort 14','Cohort 15',\n",
    "              'Cohort 14','Cohort 15','Cohort 14','Cohort 15','Cohort 14','Cohort 15','Cohort 14','Cohort 15',\n",
    "             'Cohort 14','Cohort 15','Cohort 14']\n",
    "programList = ['Data Analytics','Data Science/ML', 'Data Science/ML','Data Analytics','Data Analytics', 'Data Science/ML',\n",
    "               'Data Science/ML', 'Data Analytics', 'Data Analytics', 'Data Science/ML', 'Data Science/ML','Data Analytics',\n",
    "               'Data Analytics', 'Data Science/ML', 'Data Science/ML', 'Data Analytics', 'Data Analytics', 'Data Science/ML',\n",
    "               'Data Science/ML', 'Data Analytics', 'Data Analytics', 'Data Science/ML', 'Data Science/ML', 'Data Analytics',\n",
    "               'Data Analytics', 'Data Science/ML', 'Data Science/ML', 'Data Analytics']\n",
    "topicList = ['Python Variables','Data Cleaning','Python Variables','Data Visualization Project 1','Python Container', \n",
    "             'Data Transformation','Python Container','Data Visualization Project 2','Python Container II',\n",
    "             'Data Transformation II','Python Container II','Data Visualization Project 3','Python Functions',\n",
    "             'Feature Selection', 'Python Functions','Data Visualization Project 4','Python Functions', 'Feature Selection II',\n",
    "             'Python Functions II','Data Visualization Project 5','Python Pandas I','Supervised Learning Intro',\n",
    "             'Python Pandas I','Data Visualization Project 6','Python Pandas II','Unsupervised Learning Intro',\n",
    "             'Python Pandas II', 'Data Visualization Project 7']\n",
    "for m,d,t,ch,pl,tl in zip(monthList,dateList,timeList,cohortList,programList,topicList):\n",
    "    if userCountry in countryTimezone:\n",
    "        print(m,d,t,ch,pl,tl)"
   ]
  },
  {
   "cell_type": "code",
   "execution_count": null,
   "id": "cb25e117",
   "metadata": {},
   "outputs": [],
   "source": []
  },
  {
   "cell_type": "code",
   "execution_count": 15,
   "id": "2735d0ba",
   "metadata": {},
   "outputs": [
    {
     "data": {
      "text/plain": [
       "588"
      ]
     },
     "execution_count": 15,
     "metadata": {},
     "output_type": "execute_result"
    }
   ],
   "source": [
    "len(countryTimezone)"
   ]
  },
  {
   "cell_type": "code",
   "execution_count": 16,
   "id": "68f5fce4",
   "metadata": {},
   "outputs": [
    {
     "data": {
      "text/plain": [
       "588"
      ]
     },
     "execution_count": 16,
     "metadata": {},
     "output_type": "execute_result"
    }
   ],
   "source": [
    "len(countryOffsets)"
   ]
  },
  {
   "cell_type": "code",
   "execution_count": null,
   "id": "4c105252",
   "metadata": {},
   "outputs": [],
   "source": []
  },
  {
   "cell_type": "code",
   "execution_count": null,
   "id": "984b2727",
   "metadata": {},
   "outputs": [],
   "source": []
  },
  {
   "cell_type": "code",
   "execution_count": null,
   "id": "bcfa5a0f",
   "metadata": {},
   "outputs": [],
   "source": []
  },
  {
   "cell_type": "code",
   "execution_count": null,
   "id": "d9082ea2",
   "metadata": {},
   "outputs": [],
   "source": []
  },
  {
   "cell_type": "code",
   "execution_count": null,
   "id": "30f9e3b5",
   "metadata": {},
   "outputs": [],
   "source": []
  },
  {
   "cell_type": "code",
   "execution_count": null,
   "id": "9d2141e7",
   "metadata": {},
   "outputs": [],
   "source": []
  },
  {
   "cell_type": "code",
   "execution_count": null,
   "id": "1c404828",
   "metadata": {},
   "outputs": [],
   "source": []
  }
 ],
 "metadata": {
  "kernelspec": {
   "display_name": "Python 3 (ipykernel)",
   "language": "python",
   "name": "python3"
  },
  "language_info": {
   "codemirror_mode": {
    "name": "ipython",
    "version": 3
   },
   "file_extension": ".py",
   "mimetype": "text/x-python",
   "name": "python",
   "nbconvert_exporter": "python",
   "pygments_lexer": "ipython3",
   "version": "3.9.7"
  }
 },
 "nbformat": 4,
 "nbformat_minor": 5
}
